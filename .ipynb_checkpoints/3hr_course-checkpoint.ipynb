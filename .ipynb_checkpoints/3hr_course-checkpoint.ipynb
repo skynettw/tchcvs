{
 "cells": [
  {
   "cell_type": "code",
   "execution_count": 8,
   "id": "2260e0b0-91bd-4d97-977e-66204bbf3ea8",
   "metadata": {},
   "outputs": [],
   "source": [
    "# 載入目標網頁，分別放入 html 和 data 中\n",
    "import requests, json\n",
    "from bs4 import BeautifulSoup\n",
    "url = \"https://udn.com/news/breaknews/1\"\n",
    "more_url = \"https://udn.com/api/more?page=4&id=&channelId=1&cate_id=0&type=breaknews&totalRecNo=13601\"\n",
    "data = requests.get(more_url).text\n",
    "html = requests.get(url).text"
   ]
  },
  {
   "cell_type": "code",
   "execution_count": 10,
   "id": "89f6255b-643f-4b71-acf1-f85ec434e73d",
   "metadata": {},
   "outputs": [
    {
     "name": "stdout",
     "output_type": "stream",
     "text": [
      "[<a data-content_level=\"開放閱讀\" data-story_list=\"list_即時\" href=\"/news/story/7241/7596135?from=udn-ch1_breaknews-1-0-news\" title=\"台北遠企旁停車場土地整合完成！最美欒樹大道剩這塊「最牛畸零地」\">台北遠企旁停車場土地整合完成！最美欒樹大道剩這塊「最牛畸零地」</a>]\n"
     ]
    }
   ],
   "source": [
    "# 剖析網頁，並取得其中一條新聞標題\n",
    "soup = BeautifulSoup(html, \"html.parser\")\n",
    "sel = \"#breaknews > div.context-box__content.story-list__holder.story-list__holder--full > div:nth-child(4) > div.story-list__text > h2 > a\"\n",
    "headlines = soup.select(sel)\n",
    "print(headlines)"
   ]
  },
  {
   "cell_type": "code",
   "execution_count": 12,
   "id": "348579bb-0b5c-44d9-9a01-1c108dc4faa2",
   "metadata": {},
   "outputs": [
    {
     "name": "stdout",
     "output_type": "stream",
     "text": [
      "漲價反而賣更多？日本國民洗面乳冠軍 熱銷14年再拚翻倍增：讓洗臉變快樂\n",
      "若藍白棄保未發酵 綠恐延續「一黨獨大」總統立委再雙贏\n",
      "藏壽司喝到漂白水？水杯驚見白色粉末 他怒：可以再噁一點\n",
      "台北遠企旁停車場土地整合完成！最美欒樹大道剩這塊「最牛畸零地」\n",
      "小孟老師指一星座「翻桌指數」100分 柯文哲恰好命中\n",
      "日圓再創超甜價！一度下探0.2146\n",
      "再保人一開口就是10趴 商業保險明年真的非漲不可？\n",
      "台灣首家！寶可夢中心Pokémon Center TAIPEI開幕時間確認 多款開幕限定商品搶先曝光\n",
      "賴競總：柯侯鬧劇終了 盼選舉回歸正常軌道\n",
      "影／許淑華：趙少康任副手 賴清德不要開心藍白不合\n",
      "排放差距報告： 2023年氣溫創新高 世界仍未減少排放\n",
      "中國學大會上海論壇 馬凱碩：中未威脅美國 願與之合作\n",
      "WiFi 7 商機熱呼呼 全新續飆天價、宏捷科鎖漲停\n",
      "中國人橫渡黃海投奔自由滯韓 能否獲庇護有懸念\n",
      "台股首家服飾全通路 米斯特明年掛牌上櫃\n",
      "影／蛤？高雄連鎖壽司店疑用漂白水消毒杯子沒擦 客人裝水喝下肚\n",
      "再拚下個十年！ 陸發布「一帶一路」未來十年發展文件\n",
      "明起暫時休戰！「我帶你回家」 以色列軍人審慎準備迎受創人質\n",
      "藍白破局苦主 網友朝聖求葉元之別拆「侯柯看板」\n",
      "東京惠比壽汽車衝撞人行道！4行人受傷 80歲駕駛被捕稱「沒有記憶」\n"
     ]
    }
   ],
   "source": [
    "# 剖析網頁，並取得其中所有新聞標題\n",
    "soup = BeautifulSoup(html, \"html.parser\")\n",
    "sel = \"#breaknews > div.context-box__content.story-list__holder.story-list__holder--full > div > div.story-list__text > h2 > a\"\n",
    "headlines = soup.select(sel)\n",
    "for item in headlines:\n",
    "    print(item.text)"
   ]
  },
  {
   "cell_type": "code",
   "execution_count": 22,
   "id": "a9a8ed5f-e8e3-4cd8-98b0-083088232d7d",
   "metadata": {},
   "outputs": [
    {
     "name": "stdout",
     "output_type": "stream",
     "text": [
      "https://udn.com/news/story/6811/7596138?from=udn-ch1_breaknews-1-0-news\n",
      "https://udn.com/news/story/6656/7596139?from=udn-ch1_breaknews-1-0-news\n",
      "https://udn.com/news/story/120911/7595976?from=udn-ch1_breaknews-1-0-news\n",
      "https://udn.com/news/story/7241/7596135?from=udn-ch1_breaknews-1-0-news\n",
      "https://udn.com/news/story/7268/7595934?from=udn-ch1_breaknews-1-0-news\n",
      "https://udn.com/news/story/7239/7596133?from=udn-ch1_breaknews-1-0-news\n",
      "https://udn.com/news/story/7239/7595868?from=udn-ch1_breaknews-1-0-news\n",
      "https://udn.com/news/story/7270/7596130?from=udn-ch1_breaknews-1-0-news\n",
      "https://udn.com/news/story/123307/7596128?from=udn-ch1_breaknews-1-0-news\n",
      "https://udn.com/news/story/123307/7596127?from=udn-ch1_breaknews-1-0-news\n",
      "https://udn.com/news/story/7266/7596126?from=udn-ch1_breaknews-1-0-news\n",
      "https://udn.com/news/story/7331/7596122?from=udn-ch1_breaknews-1-0-news\n",
      "https://udn.com/news/story/7251/7596117?from=udn-ch1_breaknews-1-0-news\n",
      "https://udn.com/news/story/7331/7596063?from=udn-ch1_breaknews-1-0-news\n",
      "https://udn.com/news/story/7254/7596089?from=udn-ch1_breaknews-1-0-news\n",
      "https://udn.com/news/story/7321/7596112?from=udn-ch1_breaknews-1-0-news\n",
      "https://udn.com/news/story/7331/7596111?from=udn-ch1_breaknews-1-0-news\n",
      "https://udn.com/news/story/123777/7596087?from=udn-ch1_breaknews-1-0-news\n",
      "https://udn.com/news/story/123475/7596100?from=udn-ch1_breaknews-1-0-news\n",
      "https://udn.com/news/story/6812/7596066?from=udn-ch1_breaknews-1-0-news\n"
     ]
    }
   ],
   "source": [
    "# 剖析網頁，並取得其中所有新聞的連結\n",
    "from urllib.parse import urljoin\n",
    "soup = BeautifulSoup(html, \"html.parser\")\n",
    "sel = \"#breaknews > div.context-box__content.story-list__holder.story-list__holder--full > div > div.story-list__text > h2 > a\"\n",
    "headlines = soup.select(sel)\n",
    "for item in headlines:\n",
    "    path = urljoin(\"https://udn.com/\" , item['href'])\n",
    "    print(path)"
   ]
  },
  {
   "cell_type": "code",
   "execution_count": 23,
   "id": "8be604e3-5457-4f02-8616-9396adf47c76",
   "metadata": {},
   "outputs": [
    {
     "name": "stdout",
     "output_type": "stream",
     "text": [
      "['https://udn.com/news/story/6811/7596138?from=udn-ch1_breaknews-1-0-news', 'https://udn.com/news/story/6656/7596139?from=udn-ch1_breaknews-1-0-news', 'https://udn.com/news/story/120911/7595976?from=udn-ch1_breaknews-1-0-news', 'https://udn.com/news/story/7241/7596135?from=udn-ch1_breaknews-1-0-news', 'https://udn.com/news/story/7268/7595934?from=udn-ch1_breaknews-1-0-news', 'https://udn.com/news/story/7239/7596133?from=udn-ch1_breaknews-1-0-news', 'https://udn.com/news/story/7239/7595868?from=udn-ch1_breaknews-1-0-news', 'https://udn.com/news/story/7270/7596130?from=udn-ch1_breaknews-1-0-news', 'https://udn.com/news/story/123307/7596128?from=udn-ch1_breaknews-1-0-news', 'https://udn.com/news/story/123307/7596127?from=udn-ch1_breaknews-1-0-news', 'https://udn.com/news/story/7266/7596126?from=udn-ch1_breaknews-1-0-news', 'https://udn.com/news/story/7331/7596122?from=udn-ch1_breaknews-1-0-news', 'https://udn.com/news/story/7251/7596117?from=udn-ch1_breaknews-1-0-news', 'https://udn.com/news/story/7331/7596063?from=udn-ch1_breaknews-1-0-news', 'https://udn.com/news/story/7254/7596089?from=udn-ch1_breaknews-1-0-news', 'https://udn.com/news/story/7321/7596112?from=udn-ch1_breaknews-1-0-news', 'https://udn.com/news/story/7331/7596111?from=udn-ch1_breaknews-1-0-news', 'https://udn.com/news/story/123777/7596087?from=udn-ch1_breaknews-1-0-news', 'https://udn.com/news/story/123475/7596100?from=udn-ch1_breaknews-1-0-news', 'https://udn.com/news/story/6812/7596066?from=udn-ch1_breaknews-1-0-news']\n"
     ]
    }
   ],
   "source": [
    "# 剖析網頁，並取得其中所有新聞的連結，放到 links 串列變數中 \n",
    "from urllib.parse import urljoin\n",
    "soup = BeautifulSoup(html, \"html.parser\")\n",
    "sel = \"#breaknews > div.context-box__content.story-list__holder.story-list__holder--full > div > div.story-list__text > h2 > a\"\n",
    "headlines = soup.select(sel)\n",
    "links = list()\n",
    "for item in headlines:\n",
    "    links.append(urljoin(\"https://udn.com/\" , item['href']))\n",
    "print(links)"
   ]
  },
  {
   "cell_type": "code",
   "execution_count": 29,
   "id": "34b0ecc9-2bd9-4886-a46a-41a86a274021",
   "metadata": {},
   "outputs": [],
   "source": [
    "# 根據 links 的內容，讀取單篇文章內容，並加以剖析\n",
    "article = requests.get(links[0]).text\n",
    "soup = BeautifulSoup(article, \"html.parser\")"
   ]
  },
  {
   "cell_type": "code",
   "execution_count": 31,
   "id": "787a4346-a0f2-4b9f-bae2-56db85b9930d",
   "metadata": {},
   "outputs": [
    {
     "name": "stdout",
     "output_type": "stream",
     "text": [
      "\n",
      "\n",
      "\n",
      "\n",
      "\n"
     ]
    }
   ],
   "source": [
    "# 取得所有新聞內容，並顯示出來\n",
    "article_sel = \"body > main > div > section.wrapper-left.main-content__wrapper > section > article > div > section.article-content__editor > p\"\n",
    "data = soup.select(article_sel)\n",
    "for article in data:\n",
    "    print(article.text)"
   ]
  }
 ],
 "metadata": {
  "kernelspec": {
   "display_name": "Python 3 (ipykernel)",
   "language": "python",
   "name": "python3"
  },
  "language_info": {
   "codemirror_mode": {
    "name": "ipython",
    "version": 3
   },
   "file_extension": ".py",
   "mimetype": "text/x-python",
   "name": "python",
   "nbconvert_exporter": "python",
   "pygments_lexer": "ipython3",
   "version": "3.10.13"
  }
 },
 "nbformat": 4,
 "nbformat_minor": 5
}
